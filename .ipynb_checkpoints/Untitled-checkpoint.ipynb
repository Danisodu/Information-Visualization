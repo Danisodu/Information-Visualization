{
 "cells": [
  {
   "cell_type": "code",
   "execution_count": 49,
   "metadata": {},
   "outputs": [
    {
     "data": {
      "text/html": [
       "\n",
       "<style>\n",
       "    div#notebook-container    { width: 90%; }                                                                                        \n",
       "    div#menubar-container     { width: 90%; }\n",
       "</style>\n"
      ],
      "text/plain": [
       "<IPython.core.display.HTML object>"
      ]
     },
     "metadata": {},
     "output_type": "display_data"
    }
   ],
   "source": [
    "import pandas as pd\n",
    "from IPython.display import display, HTML\n",
    "\n",
    "pd.set_option('expand_frame_repr', False)\n",
    "\n",
    "display(HTML(data=\"\"\"\n",
    "<style>\n",
    "    div#notebook-container    { width: 90%; }                                                                                        \n",
    "    div#menubar-container     { width: 90%; }\n",
    "</style>\n",
    "\"\"\"))"
   ]
  },
  {
   "cell_type": "code",
   "execution_count": 31,
   "metadata": {},
   "outputs": [],
   "source": [
    "def get_columns(substring,columns):\n",
    "    cols = []\n",
    "\n",
    "    for column in columns:\n",
    "        if substring in column:\n",
    "            cols.append(column)\n",
    "    return cols"
   ]
  },
  {
   "cell_type": "code",
   "execution_count": 58,
   "metadata": {},
   "outputs": [],
   "source": [
    "import pandas as pd\n",
    "\n",
    "file = pd.read_csv('NSDUH-Workforce-AdultsCorrect.csv', delimiter=\",\")\n",
    "doc = pd.DataFrame()\n",
    "index = 0\n",
    "columns = file.columns\n",
    "    \n",
    "for column in get_columns(\"user_type\",columns):\n",
    "        doc.insert(index,column,file.groupby([column]).size())\n",
    "        index += 1\n",
    "\n",
    "#doc.to_csv('user_type_count.csv')"
   ]
  },
  {
   "cell_type": "code",
   "execution_count": 34,
   "metadata": {},
   "outputs": [
    {
     "name": "stdout",
     "output_type": "stream",
     "text": [
      "['marij', 'cocaine', 'crack', 'heroin', 'hallucinogen', 'inhalant', 'meth', 'painrelieve', 'tranq', 'stimulant', 'sedative', 'countofdrugs']\n"
     ]
    }
   ],
   "source": [
    "drugs_shortcut = []\n",
    "\n",
    "for column in get_columns(\"_ever\",columns):\n",
    "    drugs_shortcut.append(column.replace(\"_ever\",\"\"))\n",
    "\n",
    "print(drugs_shortcut)"
   ]
  },
  {
   "cell_type": "code",
   "execution_count": 60,
   "metadata": {},
   "outputs": [
    {
     "data": {
      "text/plain": [
       "marij_ever           15801\n",
       "cocaine_ever          4589\n",
       "crack_ever             937\n",
       "heroin_ever            533\n",
       "hallucinogen_ever     5650\n",
       "inhalant_ever         2933\n",
       "meth_ever             1632\n",
       "painrelieve_ever      3328\n",
       "tranq_ever            1513\n",
       "stimulant_ever        1785\n",
       "sedative_ever          654\n",
       "countofdrugs_ever    38418\n",
       "dtype: int64"
      ]
     },
     "execution_count": 60,
     "metadata": {},
     "output_type": "execute_result"
    }
   ],
   "source": [
    "Xdrug_ever = file[get_columns(\"_ever\",columns)]\n",
    "doc = pd.DataFrame()\n",
    "index = 0\n",
    "\n",
    "for column in Xdrug_ever.columns:\n",
    "    yes_ever = Xdrug_ever.query(column + \"==1\")\n",
    "    doc.insert(index,column,yes_ever.sum())\n",
    "    index += 1\n",
    "\n",
    "#doc.to_csv('drugs_cosuming_assoc.csv')"
   ]
  },
  {
   "cell_type": "code",
   "execution_count": null,
   "metadata": {},
   "outputs": [],
   "source": []
  },
  {
   "cell_type": "code",
   "execution_count": null,
   "metadata": {},
   "outputs": [],
   "source": []
  }
 ],
 "metadata": {
  "kernelspec": {
   "display_name": "Python 3",
   "language": "python",
   "name": "python3"
  },
  "language_info": {
   "codemirror_mode": {
    "name": "ipython",
    "version": 3
   },
   "file_extension": ".py",
   "mimetype": "text/x-python",
   "name": "python",
   "nbconvert_exporter": "python",
   "pygments_lexer": "ipython3",
   "version": "3.6.4"
  }
 },
 "nbformat": 4,
 "nbformat_minor": 2
}
