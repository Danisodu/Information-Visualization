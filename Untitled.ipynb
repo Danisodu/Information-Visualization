{
 "cells": [
  {
   "cell_type": "code",
   "execution_count": 49,
   "metadata": {},
   "outputs": [
    {
     "data": {
      "text/html": [
       "\n",
       "<style>\n",
       "    div#notebook-container    { width: 90%; }                                                                                        \n",
       "    div#menubar-container     { width: 90%; }\n",
       "</style>\n"
      ],
      "text/plain": [
       "<IPython.core.display.HTML object>"
      ]
     },
     "metadata": {},
     "output_type": "display_data"
    }
   ],
   "source": [
    "import pandas as pd\n",
    "from IPython.display import display, HTML\n",
    "\n",
    "pd.set_option('expand_frame_repr', False)\n",
    "\n",
    "display(HTML(data=\"\"\"\n",
    "<style>\n",
    "    div#notebook-container    { width: 90%; }                                                                                        \n",
    "    div#menubar-container     { width: 90%; }\n",
    "</style>\n",
    "\"\"\"))"
   ]
  },
  {
   "cell_type": "code",
   "execution_count": 2,
   "metadata": {},
   "outputs": [],
   "source": [
    "drug_dic = {'marij': 'Marijuana',\n",
    "       'cocaine': 'Cocaine',\n",
    "       'crack': 'Crack',\n",
    "       'heroin': 'Heroin',\n",
    "       'hallucinogen': 'Hallucinogen',\n",
    "       'inhalant':'Inhalant',\n",
    "       'meth': 'Meth',\n",
    "       'painreliever': 'Pain Reliever',\n",
    "       'tranq': 'Tranquilizer',\n",
    "       'stimulant':'Stimulant',\n",
    "       'sedative':'Sedative',\n",
    "       'anydrug': 'any_drug'}\n",
    "\n",
    "user_type_dic = {0: 'Non User',\n",
    "                 1: 'Light User',\n",
    "                 2: 'User',\n",
    "                 3: 'Heavy User'}"
   ]
  },
  {
   "cell_type": "code",
   "execution_count": 1,
   "metadata": {},
   "outputs": [],
   "source": [
    "def get_columns(substring,columns):\n",
    "    cols = []\n",
    "\n",
    "    for column in columns:\n",
    "        if substring in column:\n",
    "            cols.append(column)\n",
    "    return cols"
   ]
  },
  {
   "cell_type": "code",
   "execution_count": 7,
   "metadata": {},
   "outputs": [],
   "source": [
    "import pandas as pd\n",
    "\n",
    "file = pd.read_csv('NSDUH-Workforce-AdultsCorrect.csv', delimiter=\",\")\n",
    "doc = pd.DataFrame()\n",
    "index = 0\n",
    "columns = file.columns\n",
    "\n",
    "for column in get_columns(\"user_type\",columns):\n",
    "    column_name = drug_dic[column.replace(\"_user_type\",\"\")]\n",
    "    doc.insert(index,column_name,file.groupby([column]).size()/file.shape[0])\n",
    "    index += 1\n",
    "\n",
    "doc = doc.T\n",
    "doc.to_csv('user_type_count.csv')"
   ]
  },
  {
   "cell_type": "code",
   "execution_count": 91,
   "metadata": {},
   "outputs": [],
   "source": [
    "Xdrug_ever = file[get_columns(\"_ever\",columns)]\n",
    "doc = pd.DataFrame()\n",
    "index = 0\n",
    "\n",
    "for column in Xdrug_ever.columns:\n",
    "    yes_ever = Xdrug_ever.query(column + \"==1\")\n",
    "    doc.insert(index,column,yes_ever.sum()/yes_ever.shape[0])\n",
    "    index += 1\n",
    "\n",
    "doc.to_csv('drugs_consuming_assoc.csv')"
   ]
  },
  {
   "cell_type": "code",
   "execution_count": null,
   "metadata": {},
   "outputs": [],
   "source": []
  },
  {
   "cell_type": "code",
   "execution_count": null,
   "metadata": {},
   "outputs": [],
   "source": []
  }
 ],
 "metadata": {
  "kernelspec": {
   "display_name": "Python 3",
   "language": "python",
   "name": "python3"
  },
  "language_info": {
   "codemirror_mode": {
    "name": "ipython",
    "version": 3
   },
   "file_extension": ".py",
   "mimetype": "text/x-python",
   "name": "python",
   "nbconvert_exporter": "python",
   "pygments_lexer": "ipython3",
   "version": "3.6.4"
  }
 },
 "nbformat": 4,
 "nbformat_minor": 2
}
