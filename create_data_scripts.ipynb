{
 "cells": [
  {
   "cell_type": "code",
   "execution_count": 7,
   "metadata": {},
   "outputs": [
    {
     "data": {
      "text/html": [
       "\n",
       "<style>\n",
       "    div#notebook-container    { width: 90%; }                                                                                        \n",
       "    div#menubar-container     { width: 90%; }\n",
       "</style>\n"
      ],
      "text/plain": [
       "<IPython.core.display.HTML object>"
      ]
     },
     "metadata": {},
     "output_type": "display_data"
    }
   ],
   "source": [
    "import pandas as pd\n",
    "from IPython.display import display, HTML\n",
    "import os\n",
    "\n",
    "pd.set_option('expand_frame_repr', False)\n",
    "\n",
    "display(HTML(data=\"\"\"\n",
    "<style>\n",
    "    div#notebook-container    { width: 90%; }                                                                                        \n",
    "    div#menubar-container     { width: 90%; }\n",
    "</style>\n",
    "\"\"\"))"
   ]
  },
  {
   "cell_type": "code",
   "execution_count": 8,
   "metadata": {},
   "outputs": [],
   "source": [
    "drug_dic = {'marij': 'Marijuana',\n",
    "       'cocaine': 'Cocaine',\n",
    "       'crack': 'Crack',\n",
    "       'heroin': 'Heroin',\n",
    "       'hallucinogen': 'Hallucinogen',\n",
    "       'inhalant':'Inhalant',\n",
    "       'meth': 'Meth',\n",
    "       'painrelieve': 'PainReliever',\n",
    "       'tranq': 'Tranquilizer',\n",
    "       'stimulant':'Stimulant',\n",
    "       'sedative':'Sedative',\n",
    "       'anydrug': 'any_drug',\n",
    "        'countofdrugs':'countofdrugs'}\n",
    "\n",
    "user_type_dic = {0: 'Non User',\n",
    "                 1: 'Light User',\n",
    "                 2: 'User',\n",
    "                 3: 'Heavy User'}\n",
    "\n",
    "education_dic = {1: \"Less than High School\",\n",
    "        2: \"High School Graduate\",\n",
    "        3: \"Some College Credit\",\n",
    "        4: \"College Graduate\"}\n",
    "\n",
    "sex_dic = {1: \"Male\", 2: \"Female\"}\n",
    "    \n",
    "employment_dic = {1: \"Full-Time\", 2: \"Part-Time\", 3: \"Unemployed\"}\n",
    "\n",
    "file = pd.read_csv('NSDUH-Workforce-AdultsCorrect.csv', delimiter=\",\")\n",
    "file[\"SelectiveLeave\"] = file[\"SelectiveLeave\"]//7\n",
    "file[\"SkipSick\"] = file[\"SkipSick\"]//7\n",
    "\n",
    "file.loc[file[\"SelectiveLeave\"] == 0,\"SelectiveLeave\"] = 1\n",
    "file.loc[file[\"SkipSick\"] == 0,\"SkipSick\"] = 1\n",
    "columns = file.columns\n"
   ]
  },
  {
   "cell_type": "code",
   "execution_count": 9,
   "metadata": {},
   "outputs": [],
   "source": [
    "def get_columns(substring,columns):\n",
    "    cols = []\n",
    "\n",
    "    for column in columns:\n",
    "        if substring in column:\n",
    "            cols.append(column)\n",
    "    return cols"
   ]
  },
  {
   "cell_type": "code",
   "execution_count": 7,
   "metadata": {},
   "outputs": [],
   "source": [
    "import pandas as pd\n",
    "\n",
    "doc = pd.DataFrame()\n",
    "index = 0\n",
    "\n",
    "for column in get_columns(\"user_type\",columns):\n",
    "    column_name = drug_dic[column.replace(\"_user_type\",\"\")]\n",
    "    doc.insert(index,column_name,file.groupby([column]).size()/file.shape[0])\n",
    "    index += 1\n",
    "\n",
    "doc = doc.T\n",
    "doc.to_csv('user_type_count.csv')"
   ]
  },
  {
   "cell_type": "code",
   "execution_count": 91,
   "metadata": {},
   "outputs": [],
   "source": [
    "Xdrug_ever = file[get_columns(\"_ever\",columns)]\n",
    "doc = pd.DataFrame()\n",
    "index = 0\n",
    "\n",
    "for column in Xdrug_ever.columns:\n",
    "    yes_ever = Xdrug_ever.query(column + \"==1\")\n",
    "    doc.insert(index,column,yes_ever.sum()/yes_ever.shape[0])\n",
    "    index += 1\n",
    "\n",
    "doc.to_csv('drugs_consuming_assoc.csv')"
   ]
  },
  {
   "cell_type": "code",
   "execution_count": 20,
   "metadata": {},
   "outputs": [],
   "source": [
    "demo_info = [\"SelectiveLeave\",\"PersonalIncome\",\"Education\",\"EmploymentStatus\"]\n",
    "countings = {}\n",
    "\n",
    "for column in get_columns(\"_user_type\",columns):\n",
    "    drug_name = drug_dic[column.replace(\"_user_type\",\"\")]\n",
    "    for demo in demo_info:\n",
    "        doc = file[[column,demo]]\n",
    "        doc = doc.rename(index=str,columns={column: \"UserType\", demo: \"DemoInfo\"})\n",
    "        doc[\"Distribution\"] = 1\n",
    "        \n",
    "        totalInquiries = len(doc)\n",
    "        groupby = doc.groupby([\"UserType\",\"DemoInfo\"]).sum()/totalInquiries\n",
    "    \n",
    "        groupby.to_csv(drug_name+demo+\".csv\")"
   ]
  },
  {
   "cell_type": "code",
   "execution_count": 66,
   "metadata": {},
   "outputs": [
    {
     "name": "stdout",
     "output_type": "stream",
     "text": [
      "CocaineEducation\n",
      "CocaineEmploymentStatus\n",
      "CocainePersonalIncome\n",
      "CocaineSelectiveLeave\n",
      "CrackEducation\n",
      "CrackEmploymentStatus\n",
      "CrackPersonalIncome\n",
      "CrackSelectiveLeave\n",
      "HallucinogenEducation\n",
      "HallucinogenEmploymentStatus\n",
      "HallucinogenPersonalIncome\n",
      "HallucinogenSelectiveLeave\n",
      "HeroinEducation\n",
      "HeroinEmploymentStatus\n",
      "HeroinPersonalIncome\n",
      "HeroinSelectiveLeave\n",
      "InhalantEducation\n",
      "InhalantEmploymentStatus\n",
      "InhalantPersonalIncome\n",
      "InhalantSelectiveLeave\n",
      "MarijuanaEducation\n",
      "MarijuanaEmploymentStatus\n",
      "MarijuanaPersonalIncome\n",
      "MarijuanaSelectiveLeave\n",
      "MethEducation\n",
      "MethEmploymentStatus\n",
      "MethPersonalIncome\n",
      "MethSelectiveLeave\n",
      "PainRelieverEducation\n",
      "PainRelieverEmploymentStatus\n",
      "PainRelieverPersonalIncome\n",
      "PainRelieverSelectiveLeave\n",
      "SedativeEducation\n",
      "SedativeEmploymentStatus\n",
      "SedativePersonalIncome\n",
      "SedativeSelectiveLeave\n",
      "StimulantEducation\n",
      "StimulantEmploymentStatus\n",
      "StimulantPersonalIncome\n",
      "StimulantSelectiveLeave\n",
      "TranquilizerEducation\n",
      "TranquilizerEmploymentStatus\n",
      "TranquilizerPersonalIncome\n",
      "TranquilizerSelectiveLeave\n"
     ]
    }
   ],
   "source": [
    "import glob\n",
    "import math\n",
    "\n",
    "path = \".\"\n",
    "files = glob.glob(os.path.join(path,\"*.csv\"))\n",
    "\n",
    "for file in files:\n",
    "    filename = os.path.splitext(os.path.basename(file))[0]\n",
    "    if \"DemoInfo\" in filename or \"count\" in filename or \"titanic\" in filename or \"Correct\" in filename or \"assoc\" in filename:\n",
    "        continue\n",
    "    print(filename)\n",
    "\n",
    "    df = pd.read_csv(file)\n",
    "    cols = df.columns\n",
    "\n",
    "    df = df.apply(lambda x: [x['UserType'],x[cols[1]],math.floor((x[\"Distribution\"]/countings[filename][x['UserType']])*100)], axis=1)\n",
    "    df.to_csv(filename + \".csv\",index=False)"
   ]
  },
  {
   "cell_type": "code",
   "execution_count": 6,
   "metadata": {},
   "outputs": [],
   "source": [
    "demo_info = [\"Sex\",\"Education\",\"EmploymentStatus\"]\n",
    "\n",
    "for column in get_columns(\"_ever\",columns):\n",
    "    drug_name = drug_dic[column.replace(\"_ever\",\"\")]\n",
    "    yes_ever = file.query(column + \"==1 and Race in ([1,2,6,7])\")\n",
    "    doc = yes_ever[demo_info]\n",
    "    doc = doc.rename(index=str, columns={\"EmploymentStatus\": \"Employment Status\"})\n",
    "        \n",
    "    doc[\"Sex\"] = doc[\"Sex\"].apply(lambda x: sex_dic[x])\n",
    "    doc[\"Education\"] = doc[\"Education\"].apply(lambda x: education_dic[x])\n",
    "    doc[\"Employment Status\"] = doc[\"Employment Status\"].apply(lambda x: employment_dic[x])\n",
    "    doc.to_csv(drug_name+\"DemoInfo.csv\",index=False)"
   ]
  },
  {
   "cell_type": "code",
   "execution_count": null,
   "metadata": {},
   "outputs": [],
   "source": []
  }
 ],
 "metadata": {
  "kernelspec": {
   "display_name": "Python 3",
   "language": "python",
   "name": "python3"
  },
  "language_info": {
   "codemirror_mode": {
    "name": "ipython",
    "version": 3
   },
   "file_extension": ".py",
   "mimetype": "text/x-python",
   "name": "python",
   "nbconvert_exporter": "python",
   "pygments_lexer": "ipython3",
   "version": "3.6.4"
  }
 },
 "nbformat": 4,
 "nbformat_minor": 2
}
